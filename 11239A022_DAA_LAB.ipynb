{
  "nbformat": 4,
  "nbformat_minor": 0,
  "metadata": {
    "colab": {
      "provenance": [],
      "authorship_tag": "ABX9TyNxO7k5Z3I6M/3M2AAwBteq",
      "include_colab_link": true
    },
    "kernelspec": {
      "name": "python3",
      "display_name": "Python 3"
    },
    "language_info": {
      "name": "python"
    }
  },
  "cells": [
    {
      "cell_type": "markdown",
      "metadata": {
        "id": "view-in-github",
        "colab_type": "text"
      },
      "source": [
        "<a href=\"https://colab.research.google.com/github/LasyaDevulapalli/11239A022_DAA_Lab/blob/main/11239A022_DAA_LAB.ipynb\" target=\"_parent\"><img src=\"https://colab.research.google.com/assets/colab-badge.svg\" alt=\"Open In Colab\"/></a>"
      ]
    },
    {
      "cell_type": "markdown",
      "source": [
        "# **1. TOWERS OF HANOI**"
      ],
      "metadata": {
        "id": "XuT34-iHCUh0"
      }
    },
    {
      "cell_type": "code",
      "execution_count": null,
      "metadata": {
        "colab": {
          "base_uri": "https://localhost:8080/"
        },
        "id": "NiOsqyghAjSp",
        "outputId": "f820da77-46d2-4d7a-c89d-2bb678110fc8"
      },
      "outputs": [
        {
          "output_type": "stream",
          "name": "stdout",
          "text": [
            "Move disk 1 from A to C\n",
            "Move disk 2 from A to B\n",
            "Move disk 1 from C to B\n",
            "Move disk 3 from A to C\n",
            "Move disk 1 from B to A\n",
            "Move disk 2 from B to C\n",
            "Move disk 1 from A to C\n"
          ]
        }
      ],
      "source": [
        "def towers_of_hanoi(n, source, target, auxiliary):\n",
        "    if n == 1:\n",
        "        print(f\"Move disk 1 from {source} to {target}\")\n",
        "        return\n",
        "    towers_of_hanoi(n - 1, source, auxiliary, target)\n",
        "    print(f\"Move disk {n} from {source} to {target}\")\n",
        "    towers_of_hanoi(n - 1, auxiliary, target, source)\n",
        "\n",
        "n = 3\n",
        "towers_of_hanoi(n, 'A', 'C', 'B')\n"
      ]
    },
    {
      "cell_type": "markdown",
      "source": [
        "# **2A.FIBONACCI USING RECURSION**"
      ],
      "metadata": {
        "id": "Ic2TzNeiCetW"
      }
    },
    {
      "cell_type": "code",
      "source": [
        "def fibonacci(n):\n",
        "    if n <= 1:\n",
        "        return n\n",
        "    else:\n",
        "        return fibonacci(n - 1) + fibonacci(n - 2)\n",
        "n = 10\n",
        "for i in range(n):\n",
        "    print(fibonacci(i), end=\" \")\n"
      ],
      "metadata": {
        "colab": {
          "base_uri": "https://localhost:8080/"
        },
        "id": "RLlLKBh2B4mV",
        "outputId": "3e88c62e-d4c6-4fed-b355-98299f9e2dfb"
      },
      "execution_count": null,
      "outputs": [
        {
          "output_type": "stream",
          "name": "stdout",
          "text": [
            "0 1 1 2 3 5 8 13 21 34 "
          ]
        }
      ]
    },
    {
      "cell_type": "markdown",
      "source": [
        "# **2B.FIBONACCI USING ITERATION**"
      ],
      "metadata": {
        "id": "_jSbH0hPCsmn"
      }
    },
    {
      "cell_type": "code",
      "source": [
        "def fibonacci(n):\n",
        "    fib_sequence = []\n",
        "    a, b = 0, 1\n",
        "    for i in range(n):\n",
        "        fib_sequence.append(a)\n",
        "        a, b = b, a + b\n",
        "    return fib_sequence\n",
        "n = 10\n",
        "print(fibonacci(n))"
      ],
      "metadata": {
        "colab": {
          "base_uri": "https://localhost:8080/"
        },
        "id": "2QeBZg1iCJbH",
        "outputId": "04f3fc84-a1ce-43db-993d-544d0da70b0e"
      },
      "execution_count": null,
      "outputs": [
        {
          "output_type": "stream",
          "name": "stdout",
          "text": [
            "[0, 1, 1, 2, 3, 5, 8, 13, 21, 34]\n"
          ]
        }
      ]
    },
    {
      "cell_type": "markdown",
      "source": [
        "# **3.BIN PACKING**"
      ],
      "metadata": {
        "id": "Jxz44fyWDHIE"
      }
    },
    {
      "cell_type": "code",
      "source": [
        "def bin_packing(weights, bin_capacity):\n",
        "    bins = []\n",
        "\n",
        "    for weight in weights:\n",
        "        placed = False\n",
        "        for b in bins:\n",
        "            if sum(b) + weight <= bin_capacity:\n",
        "                b.append(weight)\n",
        "                placed = True\n",
        "                break\n",
        "        if not placed:\n",
        "            bins.append([weight])\n",
        "\n",
        "    return bins\n",
        "weights = [4, 8, 1, 4, 2, 1, 10, 5]\n",
        "bin_capacity = 10\n",
        "result = bin_packing(weights, bin_capacity)\n",
        "print(\"Bins used:\")\n",
        "for i, b in enumerate(result):\n",
        "    print(f\"Bin {i + 1}: {b}, Total weight: {sum(b)}\")\n"
      ],
      "metadata": {
        "colab": {
          "base_uri": "https://localhost:8080/"
        },
        "id": "4cVsE0t3CTI9",
        "outputId": "2a43aefc-faa6-4cad-9bcd-0faaab9b0f3c"
      },
      "execution_count": null,
      "outputs": [
        {
          "output_type": "stream",
          "name": "stdout",
          "text": [
            "Bins used:\n",
            "Bin 1: [4, 1, 4, 1], Total weight: 10\n",
            "Bin 2: [8, 2], Total weight: 10\n",
            "Bin 3: [10], Total weight: 10\n",
            "Bin 4: [5], Total weight: 5\n"
          ]
        }
      ]
    },
    {
      "cell_type": "markdown",
      "source": [
        "# **4.KNAP SACK**"
      ],
      "metadata": {
        "id": "i99xDwhbGYBI"
      }
    },
    {
      "cell_type": "markdown",
      "source": [
        "# **a) FRACTIONAL KNAPSACK PROBLEM**"
      ],
      "metadata": {
        "id": "g6UyQt9pG9bl"
      }
    },
    {
      "cell_type": "code",
      "source": [
        "def fractional_knapsack(weights, values, capacity):\n",
        "    n = len(weights)\n",
        "    ratios = [(values[i] / weights[i], weights[i], values[i]) for i in range(n)]\n",
        "    ratios.sort(reverse=True, key=lambda x: x[0])\n",
        "    total_value = 0\n",
        "    for ratio, weight, value in ratios:\n",
        "        if capacity == 0:\n",
        "            break\n",
        "        if weight <= capacity:\n",
        "\n",
        "            total_value += value\n",
        "            capacity -= weight\n",
        "        else:\n",
        "\n",
        "            total_value += value * (capacity / weight)\n",
        "            capacity = 0\n",
        "\n",
        "    return total_value\n",
        "\n",
        "\n",
        "weights = [10, 20, 30]\n",
        "values = [60, 100, 120]\n",
        "capacity = 50\n",
        "result = fractional_knapsack(weights, values, capacity)\n",
        "print(f\"Maximum value in Knapsack = {result:.2f}\")\n"
      ],
      "metadata": {
        "colab": {
          "base_uri": "https://localhost:8080/"
        },
        "id": "f2f9j0tiGXKH",
        "outputId": "e8503c24-5ffb-407e-95cc-6ee43db06820"
      },
      "execution_count": null,
      "outputs": [
        {
          "output_type": "stream",
          "name": "stdout",
          "text": [
            "Maximum value in Knapsack = 240.00\n"
          ]
        }
      ]
    },
    {
      "cell_type": "markdown",
      "source": [
        "# **b) 0/1 KNAPSACK PROBLEM**"
      ],
      "metadata": {
        "id": "wf4FxpIvHzQk"
      }
    },
    {
      "cell_type": "code",
      "source": [
        "def knapsack(weights, values, capacity):\n",
        "    n = len(weights)\n",
        "\n",
        "    dp = [[0 for _ in range(capacity + 1)] for _ in range(n + 1)]\n",
        "\n",
        "    for i in range(1, n + 1):\n",
        "        for w in range(1, capacity + 1):\n",
        "            if weights[i-1] <= w:\n",
        "\n",
        "                dp[i][w] = max(dp[i-1][w], dp[i-1][w - weights[i-1]] + values[i-1])\n",
        "            else:\n",
        "                dp[i][w] = dp[i-1][w]\n",
        "\n",
        "\n",
        "    return dp[n][capacity]\n",
        "\n",
        "\n",
        "weights = [10, 20, 30]\n",
        "values = [60, 100, 120]\n",
        "capacity = 50\n",
        "\n",
        "result = knapsack(weights, values, capacity)\n",
        "print(f\"Maximum value in Knapsack = {result}\")"
      ],
      "metadata": {
        "colab": {
          "base_uri": "https://localhost:8080/"
        },
        "id": "2Osxw4xBHuKu",
        "outputId": "3d16d544-35be-42b2-ca78-933a2c794c3b"
      },
      "execution_count": null,
      "outputs": [
        {
          "output_type": "stream",
          "name": "stdout",
          "text": [
            "Maximum value in Knapsack = 220\n"
          ]
        }
      ]
    },
    {
      "cell_type": "markdown",
      "source": [
        "# **c) BOUNDED KNAPSACK PROBLEM**"
      ],
      "metadata": {
        "id": "3DyTCkZsINjz"
      }
    },
    {
      "cell_type": "code",
      "source": [
        "def bounded_knapsack(weights, values, capacity, max_qty):\n",
        "    n = len(weights)\n",
        "    dp = [0] * (capacity + 1)\n",
        "    for i in range(n):\n",
        "        for c in range(capacity, 0, -1):\n",
        "            for k in range(1, max_qty[i] + 1):\n",
        "                if weights[i] * k <= c:\n",
        "                    dp[c] = max(dp[c], dp[c - weights[i] * k] + values[i] * k)\n",
        "\n",
        "    return dp[capacity]\n",
        "weights = [10, 20, 30]\n",
        "values = [60, 100, 120]\n",
        "capacity = 50\n",
        "max_qty = [2, 3, 1]\n",
        "\n",
        "result = bounded_knapsack(weights, values, capacity, max_qty)\n",
        "print(f\"Maximum value in Bounded Knapsack = {result}\")\n"
      ],
      "metadata": {
        "colab": {
          "base_uri": "https://localhost:8080/"
        },
        "id": "VFlGGU_hIA-L",
        "outputId": "b345df12-eeda-4e90-e31d-be73c8f2e1e5"
      },
      "execution_count": null,
      "outputs": [
        {
          "output_type": "stream",
          "name": "stdout",
          "text": [
            "Maximum value in Bounded Knapsack = 260\n"
          ]
        }
      ]
    },
    {
      "cell_type": "markdown",
      "source": [
        "# **d) UNBOUNDED KNAPSACK PROBLEM**"
      ],
      "metadata": {
        "id": "gHoxyVTAI4BS"
      }
    },
    {
      "cell_type": "code",
      "source": [
        "def unbounded_knapsack(weights, values, capacity):\n",
        "\n",
        "    dp = [0] * (capacity + 1)\n",
        "\n",
        "\n",
        "    for c in range(1, capacity + 1):\n",
        "        for i in range(len(weights)):\n",
        "            if weights[i] <= c:\n",
        "\n",
        "                dp[c] = max(dp[c], dp[c - weights[i]] + values[i])\n",
        "\n",
        "    return dp[capacity]\n",
        "\n",
        "\n",
        "weights = [10, 20, 30]\n",
        "values = [60, 100, 120]\n",
        "capacity = 50\n",
        "\n",
        "result = unbounded_knapsack(weights, values, capacity)\n",
        "print(f\"Maximum value in Unbounded Knapsack = {result}\")"
      ],
      "metadata": {
        "colab": {
          "base_uri": "https://localhost:8080/"
        },
        "id": "h_ctkzeOI3rD",
        "outputId": "2b4f6c2a-53c2-4c09-f1c0-d19618e442f9"
      },
      "execution_count": null,
      "outputs": [
        {
          "output_type": "stream",
          "name": "stdout",
          "text": [
            "Maximum value in Unbounded Knapsack = 300\n"
          ]
        }
      ]
    },
    {
      "cell_type": "code",
      "source": [],
      "metadata": {
        "id": "5wGl5e9OK4ur"
      },
      "execution_count": null,
      "outputs": []
    },
    {
      "cell_type": "markdown",
      "source": [
        "# **5.TRAVELING SALESMAN**"
      ],
      "metadata": {
        "id": "BRPP3-XOK5Qv"
      }
    },
    {
      "cell_type": "code",
      "source": [
        "import itertools\n",
        "\n",
        "def traveling_salesman(dist_matrix):\n",
        "    n = len(dist_matrix)\n",
        "    cities = range(n)\n",
        "    min_distance = float('inf')\n",
        "    best_route = None\n",
        "\n",
        "    for perm in itertools.permutations(cities):\n",
        "        distance = sum(dist_matrix[perm[i]][perm[i+1]] for i in range(n-1)) + dist_matrix[perm[-1]][perm[0]]\n",
        "        if distance < min_distance:\n",
        "            min_distance = distance\n",
        "            best_route = perm\n",
        "\n",
        "    return best_route, min_distance\n",
        "\n",
        "\n",
        "dist_matrix = [\n",
        "    [0, 10, 15, 20, 25],\n",
        "    [10, 0, 35, 25, 30],\n",
        "    [15, 35, 0, 30, 5],\n",
        "    [20, 25, 30, 0, 15],\n",
        "    [25, 30, 5, 15, 0]\n",
        "]\n",
        "\n",
        "best_route, min_distance = traveling_salesman(dist_matrix)\n",
        "print(f\"Best route: {best_route}, Minimum distance: {min_distance}\")\n"
      ],
      "metadata": {
        "colab": {
          "base_uri": "https://localhost:8080/"
        },
        "id": "Oq1p4bwQLCOt",
        "outputId": "8c525edf-0fdb-4057-b904-75773cee77a3"
      },
      "execution_count": null,
      "outputs": [
        {
          "output_type": "stream",
          "name": "stdout",
          "text": [
            "Best route: (0, 1, 3, 4, 2), Minimum distance: 70\n"
          ]
        }
      ]
    },
    {
      "cell_type": "markdown",
      "source": [
        "# **6.MINIMUM SPANNING TREE ( MST )**"
      ],
      "metadata": {
        "id": "o7LsA35VLjnG"
      }
    },
    {
      "cell_type": "code",
      "source": [
        "import heapq\n",
        "\n",
        "\n",
        "class UnionFind:\n",
        "    def __init__(self, n):\n",
        "        self.parent = list(range(n))\n",
        "        self.rank = [0] * n\n",
        "\n",
        "    def find(self, u):\n",
        "        if self.parent[u] != u:\n",
        "            self.parent[u] = self.find(self.parent[u])\n",
        "        return self.parent[u]\n",
        "\n",
        "    def union(self, u, v):\n",
        "        root_u = self.find(u)\n",
        "        root_v = self.find(v)\n",
        "\n",
        "        if root_u != root_v:\n",
        "\n",
        "            if self.rank[root_u] > self.rank[root_v]:\n",
        "                self.parent[root_v] = root_u\n",
        "            elif self.rank[root_u] < self.rank[root_v]:\n",
        "                self.parent[root_u] = root_v\n",
        "            else:\n",
        "                self.parent[root_v] = root_u\n",
        "                self.rank[root_u] += 1\n",
        "            return True\n",
        "        return False\n",
        "\n",
        "\n",
        "def kruskal(n, edges):\n",
        "    uf = UnionFind(n)\n",
        "    mst = []\n",
        "    edges.sort(key=lambda x: x[2])\n",
        "\n",
        "    for u, v, weight in edges:\n",
        "        if uf.union(u, v):\n",
        "            mst.append((u, v, weight))\n",
        "\n",
        "    return mst\n",
        "\n",
        "\n",
        "def prim(n, edges):\n",
        "    adj_list = [[] for _ in range(n)]\n",
        "    for u, v, weight in edges:\n",
        "        adj_list[u].append((v, weight))\n",
        "        adj_list[v].append((u, weight))\n",
        "\n",
        "    mst = []\n",
        "    min_heap = [(0, 0)]\n",
        "    visited = [False] * n\n",
        "    total_weight = 0\n",
        "\n",
        "    while min_heap:\n",
        "        weight, u = heapq.heappop(min_heap)\n",
        "        if visited[u]:\n",
        "            continue\n",
        "        visited[u] = True\n",
        "        total_weight += weight\n",
        "\n",
        "        for v, w in adj_list[u]:\n",
        "            if not visited[v]:\n",
        "                heapq.heappush(min_heap, (w, v))\n",
        "                mst.append((u, v, w))\n",
        "\n",
        "    return mst\n",
        "\n",
        "\n",
        "n = 4\n",
        "edges = [\n",
        "    (0, 1, 10),\n",
        "    (0, 2, 6),\n",
        "    (0, 3, 5),\n",
        "    (1, 3, 15),\n",
        "    (2, 3, 4)\n",
        "]\n",
        "\n",
        "\n",
        "mst_kruskal = kruskal(n, edges)\n",
        "print(\"Kruskal's MST:\")\n",
        "for u, v, weight in mst_kruskal:\n",
        "    print(f\"({u}, {v}) -> {weight}\")\n",
        "\n",
        "\n",
        "mst_prim = prim(n, edges)\n",
        "print(\"\\nPrim's MST:\")\n",
        "for u, v, weight in mst_prim:\n",
        "    print(f\"({u}, {v}) -> {weight}\")\n"
      ],
      "metadata": {
        "colab": {
          "base_uri": "https://localhost:8080/"
        },
        "id": "y8FnoXNHNa8n",
        "outputId": "93d03932-0e56-4423-a2f9-4c505f341942"
      },
      "execution_count": null,
      "outputs": [
        {
          "output_type": "stream",
          "name": "stdout",
          "text": [
            "Kruskal's MST:\n",
            "(2, 3) -> 4\n",
            "(0, 3) -> 5\n",
            "(0, 1) -> 10\n",
            "\n",
            "Prim's MST:\n",
            "(0, 3) -> 5\n",
            "(0, 2) -> 6\n",
            "(0, 1) -> 10\n",
            "(3, 2) -> 4\n",
            "(3, 1) -> 15\n"
          ]
        }
      ]
    },
    {
      "cell_type": "markdown",
      "source": [
        "# **7.SHORTEST PATH ALGORITHM**"
      ],
      "metadata": {
        "id": "b7Jx0U6zPJdQ"
      }
    },
    {
      "cell_type": "markdown",
      "source": [
        "# **a) DIJKSTRA'S ALGORITHM**"
      ],
      "metadata": {
        "id": "YAKtk83aPmAd"
      }
    },
    {
      "cell_type": "code",
      "source": [
        "import heapq\n",
        "\n",
        "def dijkstra(graph, start):\n",
        "\n",
        "    n = len(graph)\n",
        "\n",
        "\n",
        "    distances = [float('inf')] * n\n",
        "    distances[start] = 0\n",
        "\n",
        "\n",
        "    pq = [(0, start)]\n",
        "\n",
        "    while pq:\n",
        "        current_distance, current_node = heapq.heappop(pq)\n",
        "\n",
        "\n",
        "        if current_distance > distances[current_node]:\n",
        "            continue\n",
        "\n",
        "\n",
        "        for neighbor, weight in graph[current_node]:\n",
        "            distance = current_distance + weight\n",
        "\n",
        "\n",
        "            if distance < distances[neighbor]:\n",
        "                distances[neighbor] = distance\n",
        "                heapq.heappush(pq, (distance, neighbor))\n",
        "\n",
        "    return distances\n",
        "\n",
        "\n",
        "graph = {\n",
        "    0: [(1, 10), (2, 5)],\n",
        "    1: [(2, 2), (3, 1)],\n",
        "    2: [(1, 3), (3, 9), (4, 2)],\n",
        "    3: [(4, 4)],\n",
        "    4: []\n",
        "}\n",
        "\n",
        "start_node = 0\n",
        "distances = dijkstra(graph, start_node)\n",
        "\n",
        "print(f\"Shortest distances from node {start_node}:\")\n",
        "for i, distance in enumerate(distances):\n",
        "    print(f\"Node {i}: {distance}\")"
      ],
      "metadata": {
        "colab": {
          "base_uri": "https://localhost:8080/"
        },
        "id": "fkEK5xQKPIjf",
        "outputId": "ea042ee4-2f49-4b8d-dbdf-8d2e1418e7ba"
      },
      "execution_count": null,
      "outputs": [
        {
          "output_type": "stream",
          "name": "stdout",
          "text": [
            "Shortest distances from node 0:\n",
            "Node 0: 0\n",
            "Node 1: 8\n",
            "Node 2: 5\n",
            "Node 3: 9\n",
            "Node 4: 7\n"
          ]
        }
      ]
    },
    {
      "cell_type": "markdown",
      "source": [
        "# **b) BELLMAN-FORD ALGORITHM**"
      ],
      "metadata": {
        "id": "y5k13KYnP2H_"
      }
    },
    {
      "cell_type": "code",
      "source": [
        "def bellman_ford(graph, start, vertices):\n",
        "\n",
        "    distances = [float('inf')] * vertices\n",
        "    distances[start] = 0\n",
        "\n",
        "\n",
        "    for _ in range(vertices - 1):\n",
        "        for u in range(vertices):\n",
        "            for v, weight in graph[u]:\n",
        "                if distances[u] != float('inf') and distances[u] + weight < distances[v]:\n",
        "                    distances[v] = distances[u] + weight\n",
        "\n",
        "\n",
        "    for u in range(vertices):\n",
        "        for v, weight in graph[u]:\n",
        "            if distances[u] != float('inf') and distances[u] + weight < distances[v]:\n",
        "                print(\"Graph contains negative weight cycle\")\n",
        "                return None\n",
        "\n",
        "    return distances\n",
        "\n",
        "\n",
        "graph = {\n",
        "    0: [(1, -1), (2, 4)],\n",
        "    1: [(2, 3), (3, 2), (4, 2)],\n",
        "    2: [(3, 5)],\n",
        "    3: [(4, -3)],\n",
        "    4: []\n",
        "}\n",
        "\n",
        "\n",
        "vertices = 5\n",
        "start_node = 0\n",
        "distances = bellman_ford(graph, start_node, vertices)\n",
        "\n",
        "if distances:\n",
        "    print(f\"Shortest distances from node {start_node}:\")\n",
        "    for i, distance in enumerate(distances):\n",
        "        print(f\"Node {i}: {distance}\")\n"
      ],
      "metadata": {
        "colab": {
          "base_uri": "https://localhost:8080/"
        },
        "id": "Psn6QDhJQHLI",
        "outputId": "9cd86f0e-5f5c-42fb-b62e-11338b6928ee"
      },
      "execution_count": null,
      "outputs": [
        {
          "output_type": "stream",
          "name": "stdout",
          "text": [
            "Shortest distances from node 0:\n",
            "Node 0: 0\n",
            "Node 1: -1\n",
            "Node 2: 2\n",
            "Node 3: 1\n",
            "Node 4: -2\n"
          ]
        }
      ]
    },
    {
      "cell_type": "markdown",
      "source": [
        "# **8.RANDOMIZED ALGORITHM**"
      ],
      "metadata": {
        "id": "2R0mClTUn1nZ"
      }
    },
    {
      "cell_type": "code",
      "source": [
        "import random\n",
        "\n",
        "def randomized_quick_sort(arr):\n",
        "    if len(arr) <= 1:\n",
        "        return arr\n",
        "    else:\n",
        "        pivot = random.choice(arr)  # Randomly select a pivot\n",
        "        less = [x for x in arr if x < pivot]\n",
        "        equal = [x for x in arr if x == pivot]\n",
        "        greater = [x for x in arr if x > pivot]\n",
        "        return randomized_quick_sort(less) + equal + randomized_quick_sort(greater)\n",
        "\n",
        "# Example usage\n",
        "if __name__ == \"__main__\":\n",
        "    nums = [5, 3, 8, 4, 2, 7, 1, 10]\n",
        "    print(\"Original list:\", nums)\n",
        "    sorted_nums = randomized_quick_sort(nums)\n",
        "    print(\"Sorted list:\", sorted_nums)\n"
      ],
      "metadata": {
        "colab": {
          "base_uri": "https://localhost:8080/"
        },
        "id": "wI0l_k0an_fm",
        "outputId": "1f3fe69b-ecda-4e9d-c8fa-7b345e4c1b81"
      },
      "execution_count": null,
      "outputs": [
        {
          "output_type": "stream",
          "name": "stdout",
          "text": [
            "Original list: [5, 3, 8, 4, 2, 7, 1, 10]\n",
            "Sorted list: [1, 2, 3, 4, 5, 7, 8, 10]\n"
          ]
        }
      ]
    },
    {
      "cell_type": "markdown",
      "source": [
        "# **9.APPROXIMATION ALGORITHM**"
      ],
      "metadata": {
        "id": "fu_XvHgkpGxB"
      }
    },
    {
      "cell_type": "code",
      "source": [
        "def approx_vertex_cover(edges):\n",
        "    cover = set()\n",
        "    while edges:\n",
        "        u, v = edges.pop()\n",
        "        cover.update([u, v])\n",
        "        edges = [e for e in edges if u not in e and v not in e]0\n",
        "    return cover\n",
        "\n",
        "# Example usage\n",
        "if __name__ == \"__main__\":\n",
        "    # Edges of an undirected graph\n",
        "    graph_edges = [(1, 2), (1, 3), (2, 3), (3, 4), (4, 5)]\n",
        "    cover = approx_vertex_cover(graph_edges.copy())\n",
        "    print(\"Approximate Vertex Cover:\", cover)\n"
      ],
      "metadata": {
        "colab": {
          "base_uri": "https://localhost:8080/"
        },
        "id": "nJL8jxidpClo",
        "outputId": "80d1407f-8423-49c8-b4e8-33cead1cf5cc"
      },
      "execution_count": null,
      "outputs": [
        {
          "output_type": "stream",
          "name": "stdout",
          "text": [
            "Approximate Vertex Cover: {2, 3, 4, 5}\n"
          ]
        }
      ]
    }
  ]
}